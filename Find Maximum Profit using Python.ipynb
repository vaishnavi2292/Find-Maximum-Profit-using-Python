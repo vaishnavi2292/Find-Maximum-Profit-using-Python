{
 "cells": [
  {
   "cell_type": "code",
   "execution_count": 1,
   "id": "a0176c47",
   "metadata": {},
   "outputs": [],
   "source": [
    "\n",
    "class MaximumProfitFinder:\n",
    "    def maximumProfit(self, list, fees):\n",
    "        def cost(i, n, prev):\n",
    "            if i >= n:\n",
    "                return 0\n",
    "            elif prev == True:\n",
    "                return max(cost(i+1, n, False) + prices[i] - fees, cost(i + 1, n, prev))\n",
    "            else:\n",
    "                return max(cost(i+1, n, True) - prices[i], cost(i + 1, n, prev))\n",
    "        return cost(0, len(prices), False)"
   ]
  },
  {
   "cell_type": "code",
   "execution_count": 2,
   "id": "b768e3ac",
   "metadata": {},
   "outputs": [
    {
     "name": "stdout",
     "output_type": "stream",
     "text": [
      "25\n"
     ]
    }
   ],
   "source": [
    "profit = MaximumProfitFinder()\n",
    "prices = [10, 20, 30, 40, 50]\n",
    "print(profit.maximumProfit(prices, fees=15))"
   ]
  },
  {
   "cell_type": "code",
   "execution_count": null,
   "id": "a54d7f55",
   "metadata": {},
   "outputs": [],
   "source": []
  }
 ],
 "metadata": {
  "kernelspec": {
   "display_name": "Python 3 (ipykernel)",
   "language": "python",
   "name": "python3"
  },
  "language_info": {
   "codemirror_mode": {
    "name": "ipython",
    "version": 3
   },
   "file_extension": ".py",
   "mimetype": "text/x-python",
   "name": "python",
   "nbconvert_exporter": "python",
   "pygments_lexer": "ipython3",
   "version": "3.10.9"
  }
 },
 "nbformat": 4,
 "nbformat_minor": 5
}
